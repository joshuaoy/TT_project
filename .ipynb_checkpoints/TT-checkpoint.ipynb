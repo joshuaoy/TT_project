{
 "cells": [
  {
   "cell_type": "code",
   "execution_count": 1,
   "id": "cddbb26e-dc49-4feb-a0ce-c92cc470c69b",
   "metadata": {},
   "outputs": [],
   "source": [
    "import numpy as np\n",
    "from numpy import linalg as LA"
   ]
  },
  {
   "cell_type": "code",
   "execution_count": null,
   "id": "209c95c9-d71a-43df-9140-9eadabbac767",
   "metadata": {},
   "outputs": [],
   "source": [
    "\n",
    "    \n",
    "    "
   ]
  },
  {
   "cell_type": "code",
   "execution_count": 92,
   "id": "52940a78-73fc-4e76-b598-d1959ffff1f0",
   "metadata": {},
   "outputs": [],
   "source": [
    "def delta_truncated_svd(M,detla):\n",
    "    U,S,V=LA.svd(M)\n",
    "    sing_val_square=S**2\n",
    "    cumul_sqrt_error=np.sqrt(np.cumsum(sing_val_square[::-1])[::-1])\n",
    "    rk=len(cumul_sqrt_error)-1\n",
    "    for i in range(len(cumul_sqrt_error)):\n",
    "        if cumul_sqrt_error[i] <=detla:\n",
    "            rk=i\n",
    "            break\n",
    "    \n",
    "    Uk=U[:,:rk]\n",
    "    Sk=S[:rk]\n",
    "    Vk=V[:rk]\n",
    "    return Uk,Sk,Vk,rk"
   ]
  },
  {
   "cell_type": "code",
   "execution_count": 93,
   "id": "9df0932d-5791-4e76-8165-5a1b4e79d7cb",
   "metadata": {},
   "outputs": [],
   "source": [
    "def TT_svd(A,epsilon=10**-2):\n",
    "    \"\"\"A : a d-dimensional tensor\n",
    "      epsilon: a integer \"\"\"\n",
    "    d = A.ndim\n",
    "    delta=epsilon/np.sqrt(d-1)*LA.norm(A)\n",
    "    C=A\n",
    "    r_prev=1\n",
    "    r_curr=-1\n",
    "    G = []\n",
    "    for k in range(1,d):\n",
    "        nk=int(A.shape[k])\n",
    "        C=C.reshape((r_prev * nk, C.size // (r_prev * nk)), order='F')\n",
    "        U,S,V,r_curr = delta_truncated_svd(C, delta)\n",
    "        G.append(np.reshape(U, (int(r_prev),nk,r_curr), order='F'))\n",
    "        C=np.dot(np.diag(S), V)\n",
    "        r_prev=r_curr\n",
    "    C=np.expand_dims(C, -1)\n",
    "    G.append(C)\n",
    "    return G"
   ]
  },
  {
   "cell_type": "code",
   "execution_count": 202,
   "id": "374d97f3-3569-4db0-92a7-674d06844ef4",
   "metadata": {},
   "outputs": [
    {
     "name": "stdout",
     "output_type": "stream",
     "text": [
      "(1, 5, 4)\n",
      "(4, 6, 3)\n",
      "(3, 4, 1)\n",
      "(1, 5, 4)\n",
      "(4, 6, 3)\n",
      "(3, 4, 1)\n"
     ]
    }
   ],
   "source": [
    "np.random.seed(42)\n",
    "A = np.random.randn(4, 5, 6)\n",
    "# Apply TT-SVD\n",
    "tt_cores = TT_svd(A, 0.01)\n",
    "for core in tt_cores:\n",
    "    print(core.shape)\n",
    "for core in tt_cores:\n",
    "    print(core.shape)"
   ]
  },
  {
   "cell_type": "code",
   "execution_count": 95,
   "id": "42f261b7-8469-4b43-9394-b2d8ae6fd4ea",
   "metadata": {},
   "outputs": [],
   "source": [
    "def vert_unfold(M,i=-1):\n",
    "    if i==-1:\n",
    "        i=M.shape[1]\n",
    "        \n",
    "    return np.reshape(M,(M.shape[0]*i,M.size//(M.shape[0]*i)), order='F')"
   ]
  },
  {
   "cell_type": "code",
   "execution_count": 108,
   "id": "7b89cfd7-8171-405d-839c-802fae067ee3",
   "metadata": {},
   "outputs": [],
   "source": [
    "def hori_unfold(M, i=-1):\n",
    "    print(M.shape)\n",
    "    if i == -1:\n",
    "        i = M.shape[1]\n",
    "    total = M.size\n",
    "    \n",
    "    target_cols =  i*M.shape[0]\n",
    "    target_rows = total // target_cols\n",
    "        \n",
    "    if total % target_cols != 0:\n",
    "        \n",
    "        raise ValueError(f\"Cannot reshape: total={total}, target_cols={target_cols} not divisible\")\n",
    "\n",
    "    return np.reshape(M, (target_rows, target_cols), order='F')\n"
   ]
  },
  {
   "cell_type": "code",
   "execution_count": 188,
   "id": "d4658a55-7c20-48ee-bdf7-0cf77f3352e6",
   "metadata": {},
   "outputs": [],
   "source": [
    "def fix_core(core, pos, d):\n",
    "    \"\"\"\n",
    "    Ensure that the TT-core is 3D.\n",
    "    \n",
    "    Args:\n",
    "      core: a numpy array representing a TT-core.\n",
    "      pos: its position in the TT (0-based).\n",
    "      d: total number of cores.\n",
    "      \n",
    "    Returns:\n",
    "      A 3D array.\n",
    "    \"\"\"\n",
    "    if core.ndim == 2:\n",
    "        if pos == 0:\n",
    "            # First core: shape should be (1, I, r)\n",
    "            return core[np.newaxis, :, :]\n",
    "        elif pos == d-1:\n",
    "            # Last core: shape should be (r, I, 1)\n",
    "            return core[:, :, np.newaxis]\n",
    "        else:\n",
    "            raise ValueError(\"Core in the middle is unexpectedly 2D.\")\n",
    "    return core\n"
   ]
  },
  {
   "cell_type": "code",
   "execution_count": 411,
   "id": "18f9066a-ef4b-4351-a797-2470bdfaf4e7",
   "metadata": {},
   "outputs": [],
   "source": [
    "def OrthogonalizeRL(Y):\n",
    "    d=len(Y)\n",
    "    Y = [fix_core(core, i, d) for i, core in enumerate(Y)]\n",
    "    \n",
    "    X = [None] * len(Y)\n",
    "    \n",
    "    X[-1]=Y[-1]\n",
    "    for n in range(d-1,0,-1):\n",
    "        r_prev,i,r_curr=Y[n].shape\n",
    "\n",
    "        H=X[n].reshape((r_prev, i * r_curr), order='F')\n",
    "        print(H.T.shape)\n",
    "        Q,R= LA.qr(H.T)\n",
    "        Q_T=Q.T\n",
    "        new_dim = Q_T.shape[1]\n",
    "        print(Q.shape)\n",
    "        print(R.shape)\n",
    "        new_r=new_dim//i\n",
    "        X[n]=np.reshape(Q_T,(r_prev, i, new_r),order='F')\n",
    "        X[n-1] = np.tensordot(Y[n-1], R.T, axes=([2], [0]))\n",
    " \n",
    "    return X"
   ]
  },
  {
   "cell_type": "code",
   "execution_count": 418,
   "id": "cc7e4af2-3430-4648-96b8-f7a28bdfce6f",
   "metadata": {},
   "outputs": [
    {
     "name": "stdout",
     "output_type": "stream",
     "text": [
      "(9, 10, 1)\n",
      "(79, 8, 9)\n"
     ]
    },
    {
     "ename": "AssertionError",
     "evalue": "Cannot reshape Q_T: expected 5056, got 5184,with r_prev : 79,new_r 8",
     "output_type": "error",
     "traceback": [
      "\u001b[0;31m---------------------------------------------------------------------------\u001b[0m",
      "\u001b[0;31mAssertionError\u001b[0m                            Traceback (most recent call last)",
      "Cell \u001b[0;32mIn[418], line 7\u001b[0m\n\u001b[1;32m      5\u001b[0m Y \u001b[38;5;241m=\u001b[39m np\u001b[38;5;241m.\u001b[39mrandom\u001b[38;5;241m.\u001b[39mrandn(\u001b[38;5;241m*\u001b[39mshape)\n\u001b[1;32m      6\u001b[0m G\u001b[38;5;241m=\u001b[39mTT_svd(Y)\n\u001b[0;32m----> 7\u001b[0m G\u001b[38;5;241m=\u001b[39m\u001b[43mOrthogonalizeRL\u001b[49m\u001b[43m(\u001b[49m\u001b[43mG\u001b[49m\u001b[43m)\u001b[49m\n",
      "Cell \u001b[0;32mIn[417], line 27\u001b[0m, in \u001b[0;36mOrthogonalizeRL\u001b[0;34m(Y)\u001b[0m\n\u001b[1;32m     24\u001b[0m total_elements \u001b[38;5;241m=\u001b[39m Q_T\u001b[38;5;241m.\u001b[39msize\n\u001b[1;32m     25\u001b[0m new_r \u001b[38;5;241m=\u001b[39m total_elements \u001b[38;5;241m/\u001b[39m\u001b[38;5;241m/\u001b[39m (r_prev \u001b[38;5;241m*\u001b[39m i)\n\u001b[0;32m---> 27\u001b[0m \u001b[38;5;28;01massert\u001b[39;00m total_elements \u001b[38;5;241m==\u001b[39m r_prev \u001b[38;5;241m*\u001b[39m i \u001b[38;5;241m*\u001b[39m new_r, (\n\u001b[1;32m     28\u001b[0m     \u001b[38;5;124mf\u001b[39m\u001b[38;5;124m\"\u001b[39m\u001b[38;5;124mCannot reshape Q_T: expected \u001b[39m\u001b[38;5;132;01m{\u001b[39;00mr_prev\u001b[38;5;241m*\u001b[39mi\u001b[38;5;241m*\u001b[39mnew_r\u001b[38;5;132;01m}\u001b[39;00m\u001b[38;5;124m, got \u001b[39m\u001b[38;5;132;01m{\u001b[39;00mtotal_elements\u001b[38;5;132;01m}\u001b[39;00m\u001b[38;5;124m,with r_prev : \u001b[39m\u001b[38;5;132;01m{\u001b[39;00mr_prev\u001b[38;5;132;01m}\u001b[39;00m\u001b[38;5;124m,new_r \u001b[39m\u001b[38;5;132;01m{\u001b[39;00mnew_r\u001b[38;5;132;01m}\u001b[39;00m\u001b[38;5;124m\"\u001b[39m\n\u001b[1;32m     29\u001b[0m )\n\u001b[1;32m     31\u001b[0m X[n] \u001b[38;5;241m=\u001b[39m Q_T\u001b[38;5;241m.\u001b[39mreshape((r_prev, i, new_r), order\u001b[38;5;241m=\u001b[39m\u001b[38;5;124m'\u001b[39m\u001b[38;5;124mF\u001b[39m\u001b[38;5;124m'\u001b[39m)\n\u001b[1;32m     33\u001b[0m \u001b[38;5;66;03m# Step 4: Apply R.T to the previous core via mode-3 contraction\u001b[39;00m\n",
      "\u001b[0;31mAssertionError\u001b[0m: Cannot reshape Q_T: expected 5056, got 5184,with r_prev : 79,new_r 8"
     ]
    }
   ],
   "source": [
    "shape = (10, 12, 15, 8)  # Example shape\n",
    "initial_ranks = [1, 5, 6, 4, 1]  # Initial TT-ranks\n",
    "target_ranks = [1, 3, 4, 2, 1]  # Target TT-ranks\n",
    "\n",
    "Y = np.random.randn(*shape)\n",
    "G=TT_svd(Y)\n",
    "G=OrthogonalizeRL(G)"
   ]
  },
  {
   "cell_type": "code",
   "execution_count": 406,
   "id": "e304da39-0c5b-4970-91f7-be6282640bfb",
   "metadata": {},
   "outputs": [],
   "source": [
    "def TT_dot_product(A,B):\n",
    "    d = len(A)\n",
    "    v = 0\n",
    "    A1 = A[0]\n",
    "    B1 = B[0]\n",
    "    for i in range(A1.shape[1]):\n",
    "        a = A1[:, i, :] \n",
    "        b = B1[:, i, :]  \n",
    "        v += np.kron(a, b)\n",
    "    for k in range(1, d):\n",
    "        Ak = A[k]\n",
    "        Bk = B[k]\n",
    "        tmp = 0\n",
    "        for i in range(Ak.shape[1]):\n",
    "            a = Ak[:, i, :]     \n",
    "            b = Bk[:, i, :]      \n",
    "            kron = np.kron(a, b)\n",
    "            tmp += np.dot(v,kron)\n",
    "        v = tmp\n",
    "    return v.item()"
   ]
  },
  {
   "cell_type": "code",
   "execution_count": 394,
   "id": "06ccb770-8f6a-42ea-b700-d325bdf69dd8",
   "metadata": {},
   "outputs": [],
   "source": [
    "def TT_norm(A):\n",
    "    return np.sqrt(TT_dot_product(A,A))"
   ]
  },
  {
   "cell_type": "code",
   "execution_count": 385,
   "id": "d5b3ee69-3b05-46bc-8357-7707d9e2b6ee",
   "metadata": {},
   "outputs": [],
   "source": [
    "\n",
    "    \n",
    "tt_cores=OrthogonalizeRL(tt_cores)\n"
   ]
  },
  {
   "cell_type": "code",
   "execution_count": 386,
   "id": "38899da1-a16a-4061-8168-33e00cbdc4e6",
   "metadata": {
    "jupyter": {
     "source_hidden": true
    }
   },
   "outputs": [],
   "source": [
    "def Left_to_Right_orthogonalization(G):\n",
    "    \"\"\"G:list of tt-core \"\"\"\n",
    "    d=G.shape[0]\n",
    "    for k in range(d-1):\n",
    "        r_prev,nk,r_curr=G[k].shape\n",
    "        Q,R=LA.qr(np.reshape(G[k],(r_prev,nk*r_curr), order='F'))\n",
    "        G[k]=np.reshape(Q,(Q.size//(nk*r_curr),nk*r_curr), order='F')\n",
    "        G[k-1]=np.tensordot(G[k], R, axes=([2], [0]))"
   ]
  },
  {
   "cell_type": "code",
   "execution_count": 387,
   "id": "103a6480-f6aa-4456-8e3a-781a94781d6d",
   "metadata": {},
   "outputs": [],
   "source": [
    "def TT_rounding(G,epsilon=10e-4):\n",
    "    \"\"\"G:TT-core of tensor A a d-dimensional tensor\n",
    "      epsilon: a integer \"\"\"\n",
    "    d=len(G)\n",
    "    \n",
    "    delta=epsilon/np.sqrt(d-1)*TT_norm(G)\n",
    "    G=OrthogonalizeRL(G)\n",
    "    G = [fix_core(core, i, d) for i, core in enumerate(G)]\n",
    "    for k in range(d-1):\n",
    "        r_prev,i,r_curr=G[k].shape\n",
    "        U,S,V,_=delta_truncated_svd(np.reshape(G[k],(r_prev*i,r_curr), order='F'), delta)\n",
    "        G[k]=np.reshape(U,(r_prev,i,U.size//(r_prev*i)), order='F')\n",
    "        VS=np.dot(np.diag(S),V)\n",
    "        G[k+1]=np.tensordot(G[k+1], VS.T,axes=([0],[0]))\n",
    "    return G"
   ]
  },
  {
   "cell_type": "code",
   "execution_count": 388,
   "id": "2efe4e45-407f-49c8-a766-c5fcfa7f077f",
   "metadata": {},
   "outputs": [],
   "source": [
    "np.random.seed(42)\n",
    "A = np.random.randn(4, 5, 6)\n",
    "# Apply TT-SVD\n",
    "tt_cores = TT_svd(A, 0.01)\n",
    "#for core in tt_cores:\n",
    " #   print(core.shape)\n",
    "tt=TT_rounding(tt_cores)"
   ]
  },
  {
   "cell_type": "code",
   "execution_count": 389,
   "id": "9a08ff98-d4c2-427f-acbc-897ff705f101",
   "metadata": {},
   "outputs": [],
   "source": [
    "def TT_rounding_Orthogonalize_then_Randomize(G,target_ranks):\n",
    "    \n",
    "    d=len(G)\n",
    "    G = [fix_core(core, i, d) for i, core in enumerate(G)]\n",
    "    G=OrthogonalizeRL(G)\n",
    "    X = [None] * d\n",
    "    for c in G:\n",
    "        print(c.shape)\n",
    "    print(\"--------\")\n",
    "    \n",
    "    \n",
    "    \n",
    "    for n in range(d-1):\n",
    "        r_prev,i,r_curr=G[n].shape\n",
    "        Z=G[n].reshape((r_prev*i, r_curr), order='F')\n",
    "        \n",
    "        \n",
    "        omega=np.random.randn(r_curr,target_ranks[n+1])\n",
    "        Y=np.dot(Z,omega)\n",
    "        V=LA.qr(Y)[0]\n",
    "        r_new=V.shape[0]//i\n",
    "        X[n]=V.reshape((r_new,i, V.size//(r_new*i)), order='F')\n",
    "        M=np.dot(V.T,Z)\n",
    "        X[n+1]=np.tensordot( G[n+1],M.T, axes=([0], [0]))\n",
    "    return X"
   ]
  },
  {
   "cell_type": "code",
   "execution_count": null,
   "id": "af44a935-ab19-4d00-a62d-02ce5ab8508b",
   "metadata": {},
   "outputs": [],
   "source": []
  },
  {
   "cell_type": "code",
   "execution_count": 390,
   "id": "651be491-85dc-4bf2-9409-52eb758427a6",
   "metadata": {},
   "outputs": [
    {
     "name": "stdout",
     "output_type": "stream",
     "text": [
      "(1, 12, 11)\n",
      "(11, 15, 79)\n",
      "(72, 8, 9)\n",
      "(9, 10, 1)\n",
      "--------\n"
     ]
    },
    {
     "ename": "ValueError",
     "evalue": "shape-mismatch for sum",
     "output_type": "error",
     "traceback": [
      "\u001b[0;31m---------------------------------------------------------------------------\u001b[0m",
      "\u001b[0;31mValueError\u001b[0m                                Traceback (most recent call last)",
      "Cell \u001b[0;32mIn[390], line 7\u001b[0m\n\u001b[1;32m      5\u001b[0m Y \u001b[38;5;241m=\u001b[39m np\u001b[38;5;241m.\u001b[39mrandom\u001b[38;5;241m.\u001b[39mrandn(\u001b[38;5;241m*\u001b[39mshape)\n\u001b[1;32m      6\u001b[0m G\u001b[38;5;241m=\u001b[39mTT_svd(Y)\n\u001b[0;32m----> 7\u001b[0m X \u001b[38;5;241m=\u001b[39m \u001b[43mTT_rounding_Orthogonalize_then_Randomize\u001b[49m\u001b[43m(\u001b[49m\u001b[43mG\u001b[49m\u001b[43m,\u001b[49m\u001b[43m \u001b[49m\u001b[43mtarget_ranks\u001b[49m\u001b[43m)\u001b[49m\n",
      "Cell \u001b[0;32mIn[389], line 24\u001b[0m, in \u001b[0;36mTT_rounding_Orthogonalize_then_Randomize\u001b[0;34m(G, target_ranks)\u001b[0m\n\u001b[1;32m     22\u001b[0m     X[n]\u001b[38;5;241m=\u001b[39mV\u001b[38;5;241m.\u001b[39mreshape((r_new,i, V\u001b[38;5;241m.\u001b[39msize\u001b[38;5;241m/\u001b[39m\u001b[38;5;241m/\u001b[39m(r_new\u001b[38;5;241m*\u001b[39mi)), order\u001b[38;5;241m=\u001b[39m\u001b[38;5;124m'\u001b[39m\u001b[38;5;124mF\u001b[39m\u001b[38;5;124m'\u001b[39m)\n\u001b[1;32m     23\u001b[0m     M\u001b[38;5;241m=\u001b[39mnp\u001b[38;5;241m.\u001b[39mdot(V\u001b[38;5;241m.\u001b[39mT,Z)\n\u001b[0;32m---> 24\u001b[0m     X[n\u001b[38;5;241m+\u001b[39m\u001b[38;5;241m1\u001b[39m]\u001b[38;5;241m=\u001b[39m\u001b[43mnp\u001b[49m\u001b[38;5;241;43m.\u001b[39;49m\u001b[43mtensordot\u001b[49m\u001b[43m(\u001b[49m\u001b[43m \u001b[49m\u001b[43mG\u001b[49m\u001b[43m[\u001b[49m\u001b[43mn\u001b[49m\u001b[38;5;241;43m+\u001b[39;49m\u001b[38;5;241;43m1\u001b[39;49m\u001b[43m]\u001b[49m\u001b[43m,\u001b[49m\u001b[43mM\u001b[49m\u001b[38;5;241;43m.\u001b[39;49m\u001b[43mT\u001b[49m\u001b[43m,\u001b[49m\u001b[43m \u001b[49m\u001b[43maxes\u001b[49m\u001b[38;5;241;43m=\u001b[39;49m\u001b[43m(\u001b[49m\u001b[43m[\u001b[49m\u001b[38;5;241;43m0\u001b[39;49m\u001b[43m]\u001b[49m\u001b[43m,\u001b[49m\u001b[43m \u001b[49m\u001b[43m[\u001b[49m\u001b[38;5;241;43m0\u001b[39;49m\u001b[43m]\u001b[49m\u001b[43m)\u001b[49m\u001b[43m)\u001b[49m\n\u001b[1;32m     25\u001b[0m \u001b[38;5;28;01mreturn\u001b[39;00m X\n",
      "File \u001b[0;32m/Library/Frameworks/Python.framework/Versions/3.10/lib/python3.10/site-packages/numpy/_core/numeric.py:1159\u001b[0m, in \u001b[0;36mtensordot\u001b[0;34m(a, b, axes)\u001b[0m\n\u001b[1;32m   1157\u001b[0m             axes_b[k] \u001b[38;5;241m+\u001b[39m\u001b[38;5;241m=\u001b[39m ndb\n\u001b[1;32m   1158\u001b[0m \u001b[38;5;28;01mif\u001b[39;00m \u001b[38;5;129;01mnot\u001b[39;00m equal:\n\u001b[0;32m-> 1159\u001b[0m     \u001b[38;5;28;01mraise\u001b[39;00m \u001b[38;5;167;01mValueError\u001b[39;00m(\u001b[38;5;124m\"\u001b[39m\u001b[38;5;124mshape-mismatch for sum\u001b[39m\u001b[38;5;124m\"\u001b[39m)\n\u001b[1;32m   1161\u001b[0m \u001b[38;5;66;03m# Move the axes to sum over to the end of \"a\"\u001b[39;00m\n\u001b[1;32m   1162\u001b[0m \u001b[38;5;66;03m# and to the front of \"b\"\u001b[39;00m\n\u001b[1;32m   1163\u001b[0m notin \u001b[38;5;241m=\u001b[39m [k \u001b[38;5;28;01mfor\u001b[39;00m k \u001b[38;5;129;01min\u001b[39;00m \u001b[38;5;28mrange\u001b[39m(nda) \u001b[38;5;28;01mif\u001b[39;00m k \u001b[38;5;129;01mnot\u001b[39;00m \u001b[38;5;129;01min\u001b[39;00m axes_a]\n",
      "\u001b[0;31mValueError\u001b[0m: shape-mismatch for sum"
     ]
    }
   ],
   "source": [
    "shape = (10, 12, 15, 8)  # Example shape\n",
    "initial_ranks = [1, 5, 6, 4, 1]  # Initial TT-ranks\n",
    "target_ranks = [1, 3, 4, 2, 1]  # Target TT-ranks\n",
    "\n",
    "Y = np.random.randn(*shape)\n",
    "G=TT_svd(Y)\n",
    "X = TT_rounding_Orthogonalize_then_Randomize(G, target_ranks)\n"
   ]
  },
  {
   "cell_type": "markdown",
   "id": "84657002-2b43-4046-9922-d40df17f2bc6",
   "metadata": {},
   "source": [
    "Algo 3.2"
   ]
  },
  {
   "cell_type": "code",
   "execution_count": 133,
   "id": "9b35441a-3e1a-45db-bb10-b1460b769b47",
   "metadata": {},
   "outputs": [
    {
     "ename": "SyntaxError",
     "evalue": "'(' was never closed (57932250.py, line 6)",
     "output_type": "error",
     "traceback": [
      "\u001b[0;36m  Cell \u001b[0;32mIn[133], line 6\u001b[0;36m\u001b[0m\n\u001b[0;31m    R=np.random.randn(*targets_ranks\u001b[0m\n\u001b[0m                     ^\u001b[0m\n\u001b[0;31mSyntaxError\u001b[0m\u001b[0;31m:\u001b[0m '(' was never closed\n"
     ]
    }
   ],
   "source": [
    "def Randomize_then_Orthogonalize(G,targets_ranks):\n",
    "    G=OrthogonalizeRL(G)\n",
    "    d=len(Y)\n",
    "    X=np.zeros(d)\n",
    "    for i in range(d-1):\n",
    "        R=np.random.randn(*targets_ranks\n",
    "                         \n",
    "        X[0]=G[0]\n",
    "        for n in range(d-1):\n",
    "            Z=vert_upfold(Y[n])\n",
    "            \n",
    "    "
   ]
  },
  {
   "cell_type": "code",
   "execution_count": null,
   "id": "db15f1c9-3816-4502-91ac-11370c903b09",
   "metadata": {},
   "outputs": [],
   "source": []
  },
  {
   "cell_type": "code",
   "execution_count": null,
   "id": "2a8070a7-4ee8-4054-9d1f-ed7bf0776dba",
   "metadata": {},
   "outputs": [],
   "source": []
  },
  {
   "cell_type": "code",
   "execution_count": null,
   "id": "af6c1486-9082-4746-a1fa-338c899b857a",
   "metadata": {},
   "outputs": [],
   "source": []
  }
 ],
 "metadata": {
  "kernelspec": {
   "display_name": "Python 3 (ipykernel)",
   "language": "python",
   "name": "python3"
  },
  "language_info": {
   "codemirror_mode": {
    "name": "ipython",
    "version": 3
   },
   "file_extension": ".py",
   "mimetype": "text/x-python",
   "name": "python",
   "nbconvert_exporter": "python",
   "pygments_lexer": "ipython3",
   "version": "3.10.3"
  }
 },
 "nbformat": 4,
 "nbformat_minor": 5
}
